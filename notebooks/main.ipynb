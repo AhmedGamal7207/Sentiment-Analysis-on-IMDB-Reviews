{
 "cells": [
  {
   "cell_type": "code",
   "execution_count": null,
   "metadata": {
    "execution": {
     "iopub.execute_input": "2025-08-10T12:53:20.341956Z",
     "iopub.status.busy": "2025-08-10T12:53:20.341701Z",
     "iopub.status.idle": "2025-08-10T12:53:21.055408Z",
     "shell.execute_reply": "2025-08-10T12:53:21.053919Z",
     "shell.execute_reply.started": "2025-08-10T12:53:20.341933Z"
    },
    "trusted": true
   },
   "outputs": [],
   "source": [
    "!git clone https://github.com/AhmedGamal7207/Sentiment-Analysis-on-IMDB-Reviews.git /kaggle/working/Sentiment-Analysis-on-IMDB-Reviews"
   ]
  },
  {
   "cell_type": "code",
   "execution_count": null,
   "metadata": {
    "execution": {
     "iopub.execute_input": "2025-08-10T12:53:22.768359Z",
     "iopub.status.busy": "2025-08-10T12:53:22.767987Z",
     "iopub.status.idle": "2025-08-10T12:53:22.779566Z",
     "shell.execute_reply": "2025-08-10T12:53:22.778701Z",
     "shell.execute_reply.started": "2025-08-10T12:53:22.768322Z"
    },
    "trusted": true
   },
   "outputs": [],
   "source": [
    "import sys\n",
    "sys.path.insert(0, \"/kaggle/working/Sentiment-Analysis-on-IMDB-Reviews\")\n",
    "\n",
    "from src.utils import hello\n",
    "hello()"
   ]
  },
  {
   "cell_type": "markdown",
   "metadata": {},
   "source": [
    "# Importing Packages"
   ]
  },
  {
   "cell_type": "code",
   "execution_count": null,
   "metadata": {
    "execution": {
     "iopub.execute_input": "2025-08-10T15:14:34.893339Z",
     "iopub.status.busy": "2025-08-10T15:14:34.893052Z",
     "iopub.status.idle": "2025-08-10T15:14:38.107218Z",
     "shell.execute_reply": "2025-08-10T15:14:38.106432Z",
     "shell.execute_reply.started": "2025-08-10T15:14:34.893316Z"
    },
    "trusted": true
   },
   "outputs": [],
   "source": [
    "import pandas as pd\n",
    "import nltk\n",
    "from nltk.corpus import stopwords\n",
    "import re\n",
    "from nltk.tokenize import word_tokenize\n",
    "from nltk.stem.wordnet import WordNetLemmatizer\n",
    "from sklearn.feature_extraction.text import TfidfVectorizer"
   ]
  },
  {
   "cell_type": "markdown",
   "metadata": {},
   "source": [
    "# Data Loading and Exploration"
   ]
  },
  {
   "cell_type": "code",
   "execution_count": null,
   "metadata": {
    "execution": {
     "iopub.execute_input": "2025-08-10T15:14:39.71117Z",
     "iopub.status.busy": "2025-08-10T15:14:39.710254Z",
     "iopub.status.idle": "2025-08-10T15:14:41.025137Z",
     "shell.execute_reply": "2025-08-10T15:14:41.02449Z",
     "shell.execute_reply.started": "2025-08-10T15:14:39.711143Z"
    },
    "trusted": true
   },
   "outputs": [],
   "source": [
    "dataset = pd.read_csv(\"/kaggle/input/imdb-dataset-of-50k-movie-reviews/IMDB Dataset.csv\")\n",
    "dataset.head()"
   ]
  },
  {
   "cell_type": "code",
   "execution_count": null,
   "metadata": {
    "execution": {
     "iopub.execute_input": "2025-08-10T15:14:44.189223Z",
     "iopub.status.busy": "2025-08-10T15:14:44.188967Z",
     "iopub.status.idle": "2025-08-10T15:14:44.21587Z",
     "shell.execute_reply": "2025-08-10T15:14:44.215137Z",
     "shell.execute_reply.started": "2025-08-10T15:14:44.189207Z"
    },
    "trusted": true
   },
   "outputs": [],
   "source": [
    "dataset.info()\n",
    "# No nulls"
   ]
  },
  {
   "cell_type": "code",
   "execution_count": null,
   "metadata": {
    "execution": {
     "iopub.execute_input": "2025-08-10T15:14:47.816666Z",
     "iopub.status.busy": "2025-08-10T15:14:47.815887Z",
     "iopub.status.idle": "2025-08-10T15:14:47.831616Z",
     "shell.execute_reply": "2025-08-10T15:14:47.830872Z",
     "shell.execute_reply.started": "2025-08-10T15:14:47.81664Z"
    },
    "trusted": true
   },
   "outputs": [],
   "source": [
    "dataset.isnull().sum()"
   ]
  },
  {
   "cell_type": "code",
   "execution_count": null,
   "metadata": {
    "execution": {
     "iopub.execute_input": "2025-08-10T15:14:51.101276Z",
     "iopub.status.busy": "2025-08-10T15:14:51.10046Z",
     "iopub.status.idle": "2025-08-10T15:14:51.177326Z",
     "shell.execute_reply": "2025-08-10T15:14:51.176534Z",
     "shell.execute_reply.started": "2025-08-10T15:14:51.101251Z"
    },
    "trusted": true
   },
   "outputs": [],
   "source": [
    "dataset.describe(include=['O'])\n",
    "# There is some duplicates"
   ]
  },
  {
   "cell_type": "code",
   "execution_count": null,
   "metadata": {
    "execution": {
     "iopub.execute_input": "2025-08-10T15:14:54.936586Z",
     "iopub.status.busy": "2025-08-10T15:14:54.936348Z",
     "iopub.status.idle": "2025-08-10T15:14:55.101868Z",
     "shell.execute_reply": "2025-08-10T15:14:55.101248Z",
     "shell.execute_reply.started": "2025-08-10T15:14:54.936568Z"
    },
    "trusted": true
   },
   "outputs": [],
   "source": [
    "dataset.duplicated().sum()"
   ]
  },
  {
   "cell_type": "code",
   "execution_count": null,
   "metadata": {
    "execution": {
     "iopub.execute_input": "2025-08-10T15:14:56.983727Z",
     "iopub.status.busy": "2025-08-10T15:14:56.983459Z",
     "iopub.status.idle": "2025-08-10T15:14:56.992524Z",
     "shell.execute_reply": "2025-08-10T15:14:56.991925Z",
     "shell.execute_reply.started": "2025-08-10T15:14:56.983706Z"
    },
    "trusted": true
   },
   "outputs": [],
   "source": [
    "dataset[\"sentiment\"].value_counts()\n",
    "# Dataset is balanced"
   ]
  },
  {
   "cell_type": "markdown",
   "metadata": {},
   "source": [
    "# Data Cleaning and Preprocessing"
   ]
  },
  {
   "cell_type": "code",
   "execution_count": null,
   "metadata": {
    "execution": {
     "iopub.execute_input": "2025-08-10T15:14:59.083624Z",
     "iopub.status.busy": "2025-08-10T15:14:59.082931Z",
     "iopub.status.idle": "2025-08-10T15:14:59.377929Z",
     "shell.execute_reply": "2025-08-10T15:14:59.377377Z",
     "shell.execute_reply.started": "2025-08-10T15:14:59.083599Z"
    },
    "trusted": true
   },
   "outputs": [],
   "source": [
    "dataset.drop_duplicates(inplace= True)\n",
    "dataset.duplicated().sum()"
   ]
  },
  {
   "cell_type": "code",
   "execution_count": null,
   "metadata": {
    "execution": {
     "iopub.execute_input": "2025-08-10T15:15:01.319806Z",
     "iopub.status.busy": "2025-08-10T15:15:01.319567Z",
     "iopub.status.idle": "2025-08-10T15:15:01.328216Z",
     "shell.execute_reply": "2025-08-10T15:15:01.327522Z",
     "shell.execute_reply.started": "2025-08-10T15:15:01.319789Z"
    },
    "trusted": true
   },
   "outputs": [],
   "source": [
    "all_stopwords = set(stopwords.words(\"english\"))\n",
    "lemmatizer = WordNetLemmatizer()\n",
    "def preprocess_text(sentence):\n",
    "    sentence = sentence.lower() # Lowercasing\n",
    "    sentence = re.sub(\"[^a-zA-Z0-9]\",\" \", sentence) # Removing non-letters, numbers\n",
    "    sentence = re.sub(r\"\\s+\", \" \", sentence) # Replacing multiple spaces, tabs with just one space\n",
    "    words = word_tokenize(sentence)\n",
    "    sentence = \"\"\n",
    "    for word in words:\n",
    "        if word not in all_stopwords:\n",
    "            word = lemmatizer.lemmatize(word)\n",
    "            sentence = sentence + word + \" \"\n",
    "    sentence = sentence.rstrip()\n",
    "    return sentence"
   ]
  },
  {
   "cell_type": "code",
   "execution_count": null,
   "metadata": {
    "execution": {
     "iopub.execute_input": "2025-08-10T15:15:03.328921Z",
     "iopub.status.busy": "2025-08-10T15:15:03.328659Z",
     "iopub.status.idle": "2025-08-10T15:15:05.925763Z",
     "shell.execute_reply": "2025-08-10T15:15:05.924937Z",
     "shell.execute_reply.started": "2025-08-10T15:15:03.328901Z"
    },
    "trusted": true
   },
   "outputs": [],
   "source": [
    "preprocess_text(\"Ahmed is a    good            boy 5 f@!!\")"
   ]
  },
  {
   "cell_type": "code",
   "execution_count": null,
   "metadata": {
    "execution": {
     "iopub.execute_input": "2025-08-10T15:15:08.085098Z",
     "iopub.status.busy": "2025-08-10T15:15:08.084476Z",
     "iopub.status.idle": "2025-08-10T15:16:06.3864Z",
     "shell.execute_reply": "2025-08-10T15:16:06.385674Z",
     "shell.execute_reply.started": "2025-08-10T15:15:08.085074Z"
    },
    "trusted": true
   },
   "outputs": [],
   "source": [
    "dataset[\"preprocessed\"] = dataset[\"review\"].apply(preprocess_text)"
   ]
  },
  {
   "cell_type": "code",
   "execution_count": null,
   "metadata": {
    "execution": {
     "iopub.execute_input": "2025-08-10T15:16:41.538541Z",
     "iopub.status.busy": "2025-08-10T15:16:41.538256Z",
     "iopub.status.idle": "2025-08-10T15:16:55.203966Z",
     "shell.execute_reply": "2025-08-10T15:16:55.20321Z",
     "shell.execute_reply.started": "2025-08-10T15:16:41.538506Z"
    },
    "trusted": true
   },
   "outputs": [],
   "source": [
    "tfidf = TfidfVectorizer(\n",
    "    ngram_range=(1,2),\n",
    "    max_df=0.9,\n",
    "    min_df=5\n",
    ")\n",
    "X_tfidf = tfidf.fit_transform(dataset[\"preprocessed\"])"
   ]
  },
  {
   "cell_type": "code",
   "execution_count": null,
   "metadata": {
    "execution": {
     "iopub.execute_input": "2025-08-10T15:21:06.516715Z",
     "iopub.status.busy": "2025-08-10T15:21:06.51568Z",
     "iopub.status.idle": "2025-08-10T15:21:06.521474Z",
     "shell.execute_reply": "2025-08-10T15:21:06.52068Z",
     "shell.execute_reply.started": "2025-08-10T15:21:06.516684Z"
    },
    "trusted": true
   },
   "outputs": [],
   "source": [
    "X_tfidf.data[0]"
   ]
  },
  {
   "cell_type": "code",
   "execution_count": null,
   "metadata": {
    "trusted": true
   },
   "outputs": [],
   "source": []
  }
 ],
 "metadata": {
  "kaggle": {
   "accelerator": "gpu",
   "dataSources": [
    {
     "datasetId": 134715,
     "sourceId": 320111,
     "sourceType": "datasetVersion"
    }
   ],
   "dockerImageVersionId": 31090,
   "isGpuEnabled": true,
   "isInternetEnabled": true,
   "language": "python",
   "sourceType": "notebook"
  },
  "kernelspec": {
   "display_name": "Python 3",
   "language": "python",
   "name": "python3"
  },
  "language_info": {
   "codemirror_mode": {
    "name": "ipython",
    "version": 3
   },
   "file_extension": ".py",
   "mimetype": "text/x-python",
   "name": "python",
   "nbconvert_exporter": "python",
   "pygments_lexer": "ipython3",
   "version": "3.10.4"
  }
 },
 "nbformat": 4,
 "nbformat_minor": 4
}
