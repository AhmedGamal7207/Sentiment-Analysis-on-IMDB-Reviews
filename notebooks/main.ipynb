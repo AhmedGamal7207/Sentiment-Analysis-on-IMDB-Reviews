{
 "cells": [
  {
   "cell_type": "code",
   "execution_count": null,
   "metadata": {},
   "outputs": [],
   "source": [
    "# ensure the repo root is in sys.path (so `src` is importable)\n",
    "import sys, os\n",
    "repo_root = os.path.dirname(os.path.dirname(os.path.abspath(\"__file__\")))\n",
    "if repo_root not in sys.path:\n",
    "    sys.path.insert(0, repo_root)\n",
    "\n",
    "from src.utils import hello\n",
    "hello()"
   ]
  },
  {
   "cell_type": "code",
   "execution_count": null,
   "metadata": {},
   "outputs": [],
   "source": [
    "print(\"Hello World\")"
   ]
  },
  {
   "cell_type": "code",
   "execution_count": null,
   "metadata": {
    "execution": {
     "iopub.execute_input": "2025-08-09T16:49:27.404547Z",
     "iopub.status.busy": "2025-08-09T16:49:27.403705Z",
     "iopub.status.idle": "2025-08-09T16:49:27.408271Z",
     "shell.execute_reply": "2025-08-09T16:49:27.40753Z",
     "shell.execute_reply.started": "2025-08-09T16:49:27.404507Z"
    },
    "trusted": true
   },
   "outputs": [],
   "source": [
    "x = 5"
   ]
  },
  {
   "cell_type": "code",
   "execution_count": null,
   "metadata": {
    "execution": {
     "iopub.execute_input": "2025-08-09T16:49:28.639446Z",
     "iopub.status.busy": "2025-08-09T16:49:28.638895Z",
     "iopub.status.idle": "2025-08-09T16:49:28.643312Z",
     "shell.execute_reply": "2025-08-09T16:49:28.642664Z",
     "shell.execute_reply.started": "2025-08-09T16:49:28.639421Z"
    },
    "trusted": true
   },
   "outputs": [],
   "source": [
    "print(x)"
   ]
  },
  {
   "cell_type": "code",
   "execution_count": null,
   "metadata": {},
   "outputs": [],
   "source": [
    "y = 10"
   ]
  },
  {
   "cell_type": "code",
   "execution_count": null,
   "metadata": {},
   "outputs": [],
   "source": [
    "print(y)"
   ]
  }
 ],
 "metadata": {
  "kaggle": {
   "accelerator": "gpu",
   "dataSources": [
    {
     "datasetId": 134715,
     "sourceId": 320111,
     "sourceType": "datasetVersion"
    }
   ],
   "dockerImageVersionId": 31090,
   "isGpuEnabled": true,
   "isInternetEnabled": true,
   "language": "python",
   "sourceType": "notebook"
  },
  "kernelspec": {
   "display_name": "Python 3",
   "language": "python",
   "name": "python3"
  },
  "language_info": {
   "codemirror_mode": {
    "name": "ipython",
    "version": 3
   },
   "file_extension": ".py",
   "mimetype": "text/x-python",
   "name": "python",
   "nbconvert_exporter": "python",
   "pygments_lexer": "ipython3",
   "version": "3.11.13"
  }
 },
 "nbformat": 4,
 "nbformat_minor": 4
}
